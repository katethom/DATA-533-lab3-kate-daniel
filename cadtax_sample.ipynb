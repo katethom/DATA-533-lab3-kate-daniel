{
 "cells": [
  {
   "cell_type": "code",
   "execution_count": 1,
   "metadata": {
    "collapsed": false
   },
   "outputs": [
    {
     "name": "stdout",
     "output_type": "stream",
     "text": [
      "The total price is for the item Shoes is: $52.5\n"
     ]
    },
    {
     "data": {
      "text/html": [
       "<div>\n",
       "<table border=\"1\" class=\"dataframe\">\n",
       "  <thead>\n",
       "    <tr style=\"text-align: right;\">\n",
       "      <th></th>\n",
       "      <th>Canada rate(GST)</th>\n",
       "      <th>Provincial rate(PST)</th>\n",
       "      <th>Total</th>\n",
       "    </tr>\n",
       "  </thead>\n",
       "  <tbody>\n",
       "    <tr>\n",
       "      <th>Alberta</th>\n",
       "      <td>5%</td>\n",
       "      <td>0%</td>\n",
       "      <td>5%</td>\n",
       "    </tr>\n",
       "    <tr>\n",
       "      <th>British Columbia</th>\n",
       "      <td>5%</td>\n",
       "      <td>7%</td>\n",
       "      <td>12%</td>\n",
       "    </tr>\n",
       "    <tr>\n",
       "      <th>Manitoba</th>\n",
       "      <td>5%</td>\n",
       "      <td>8%</td>\n",
       "      <td>13%</td>\n",
       "    </tr>\n",
       "    <tr>\n",
       "      <th>New-Brunswick</th>\n",
       "      <td>5%</td>\n",
       "      <td>10%</td>\n",
       "      <td>15%</td>\n",
       "    </tr>\n",
       "    <tr>\n",
       "      <th>Newfoundland and Labrador</th>\n",
       "      <td>5%</td>\n",
       "      <td>10%</td>\n",
       "      <td>15%</td>\n",
       "    </tr>\n",
       "    <tr>\n",
       "      <th>Northwest Territories</th>\n",
       "      <td>5%</td>\n",
       "      <td>0%</td>\n",
       "      <td>5%</td>\n",
       "    </tr>\n",
       "    <tr>\n",
       "      <th>Nova Scotia</th>\n",
       "      <td>5%</td>\n",
       "      <td>10%</td>\n",
       "      <td>15%</td>\n",
       "    </tr>\n",
       "    <tr>\n",
       "      <th>Nunavut</th>\n",
       "      <td>5%</td>\n",
       "      <td>0%</td>\n",
       "      <td>5%</td>\n",
       "    </tr>\n",
       "    <tr>\n",
       "      <th>Ontario</th>\n",
       "      <td>5%</td>\n",
       "      <td>8%</td>\n",
       "      <td>13%</td>\n",
       "    </tr>\n",
       "    <tr>\n",
       "      <th>Prince Edward Island(PEI)</th>\n",
       "      <td>5%</td>\n",
       "      <td>10%</td>\n",
       "      <td>15%</td>\n",
       "    </tr>\n",
       "    <tr>\n",
       "      <th>Quebec</th>\n",
       "      <td>5%</td>\n",
       "      <td>9.975%</td>\n",
       "      <td>14.975%</td>\n",
       "    </tr>\n",
       "    <tr>\n",
       "      <th>Saskatchewan</th>\n",
       "      <td>5%</td>\n",
       "      <td>6%</td>\n",
       "      <td>11%</td>\n",
       "    </tr>\n",
       "    <tr>\n",
       "      <th>Yukon</th>\n",
       "      <td>5%</td>\n",
       "      <td>0%</td>\n",
       "      <td>5%</td>\n",
       "    </tr>\n",
       "  </tbody>\n",
       "</table>\n",
       "</div>"
      ],
      "text/plain": [
       "                          Canada rate(GST) Provincial rate(PST)    Total\n",
       "Alberta                                 5%                   0%       5%\n",
       "British Columbia                        5%                   7%      12%\n",
       "Manitoba                                5%                   8%      13%\n",
       "New-Brunswick                           5%                  10%      15%\n",
       "Newfoundland and Labrador               5%                  10%      15%\n",
       "Northwest Territories                   5%                   0%       5%\n",
       "Nova Scotia                             5%                  10%      15%\n",
       "Nunavut                                 5%                   0%       5%\n",
       "Ontario                                 5%                   8%      13%\n",
       "Prince Edward Island(PEI)               5%                  10%      15%\n",
       "Quebec                                  5%               9.975%  14.975%\n",
       "Saskatchewan                            5%                   6%      11%\n",
       "Yukon                                   5%                   0%       5%"
      ]
     },
     "execution_count": 1,
     "metadata": {},
     "output_type": "execute_result"
    }
   ],
   "source": [
    "from cadtax.calculator import taxcalculator as objpr\n",
    "from cadtax.ratesframe import giverates as txr\n",
    "\n",
    "#help(cadtax.objectprice.objectprice)\n",
    "\n",
    "#test calculating tax\n",
    "a = objpr.objectprice('Shoes', 50, 'nun')\n",
    "a.getprice()\n",
    "\n",
    "#test providing taxrate info\n",
    "txr.taxrates.displayrates()"
   ]
  },
  {
   "cell_type": "code",
   "execution_count": null,
   "metadata": {
    "collapsed": false
   },
   "outputs": [],
   "source": []
  },
  {
   "cell_type": "code",
   "execution_count": 14,
   "metadata": {
    "collapsed": false
   },
   "outputs": [],
   "source": []
  },
  {
   "cell_type": "code",
   "execution_count": null,
   "metadata": {
    "collapsed": true
   },
   "outputs": [],
   "source": []
  }
 ],
 "metadata": {
  "anaconda-cloud": {},
  "kernelspec": {
   "display_name": "Python [conda root]",
   "language": "python",
   "name": "conda-root-py"
  },
  "language_info": {
   "codemirror_mode": {
    "name": "ipython",
    "version": 3
   },
   "file_extension": ".py",
   "mimetype": "text/x-python",
   "name": "python",
   "nbconvert_exporter": "python",
   "pygments_lexer": "ipython3",
   "version": "3.5.2"
  }
 },
 "nbformat": 4,
 "nbformat_minor": 1
}
