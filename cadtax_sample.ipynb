{
 "cells": [
  {
   "cell_type": "code",
   "execution_count": 11,
   "metadata": {
    "collapsed": false
   },
   "outputs": [
    {
     "ename": "ImportError",
     "evalue": "No module named 'unittests'",
     "output_type": "error",
     "traceback": [
      "\u001b[0;31m---------------------------------------------------------------------------\u001b[0m",
      "\u001b[0;31mImportError\u001b[0m                               Traceback (most recent call last)",
      "\u001b[0;32m<ipython-input-11-f818d8446108>\u001b[0m in \u001b[0;36m<module>\u001b[0;34m()\u001b[0m\n\u001b[1;32m      1\u001b[0m \u001b[0;32mfrom\u001b[0m \u001b[0mcadtax\u001b[0m\u001b[0;34m.\u001b[0m\u001b[0mcalculator\u001b[0m \u001b[0;32mimport\u001b[0m \u001b[0mtaxcalculator\u001b[0m \u001b[0;32mas\u001b[0m \u001b[0mobjpr\u001b[0m\u001b[0;34m\u001b[0m\u001b[0m\n\u001b[1;32m      2\u001b[0m \u001b[0;32mfrom\u001b[0m \u001b[0mcadtax\u001b[0m\u001b[0;34m.\u001b[0m\u001b[0mratesframe\u001b[0m \u001b[0;32mimport\u001b[0m \u001b[0mgiverates\u001b[0m \u001b[0;32mas\u001b[0m \u001b[0mtxr\u001b[0m\u001b[0;34m\u001b[0m\u001b[0m\n\u001b[0;32m----> 3\u001b[0;31m \u001b[0;32mfrom\u001b[0m \u001b[0mtestsuite\u001b[0m \u001b[0;32mimport\u001b[0m \u001b[0mtestsuite\u001b[0m\u001b[0;34m\u001b[0m\u001b[0m\n\u001b[0m\u001b[1;32m      4\u001b[0m \u001b[0;31m#help(cadtax.objectprice.objectprice)\u001b[0m\u001b[0;34m\u001b[0m\u001b[0;34m\u001b[0m\u001b[0m\n\u001b[1;32m      5\u001b[0m \u001b[0;34m\u001b[0m\u001b[0m\n",
      "\u001b[0;32m/Users/Kate/Documents/MDS/533/Lab/Lab3/data-533-lab-2-katethom/testsuite/testsuite.py\u001b[0m in \u001b[0;36m<module>\u001b[0;34m()\u001b[0m\n\u001b[1;32m      1\u001b[0m \u001b[0;32mimport\u001b[0m \u001b[0munittest\u001b[0m\u001b[0;34m\u001b[0m\u001b[0m\n\u001b[1;32m      2\u001b[0m \u001b[0;34m\u001b[0m\u001b[0m\n\u001b[0;32m----> 3\u001b[0;31m \u001b[0;32mfrom\u001b[0m \u001b[0munittests\u001b[0m\u001b[0;34m.\u001b[0m\u001b[0mtestaxcalc\u001b[0m \u001b[0;32mimport\u001b[0m \u001b[0mtesttaxcalc\u001b[0m\u001b[0;34m\u001b[0m\u001b[0m\n\u001b[0m\u001b[1;32m      4\u001b[0m \u001b[0;32mfrom\u001b[0m \u001b[0munittests\u001b[0m\u001b[0;34m.\u001b[0m\u001b[0mtestgetPrice\u001b[0m \u001b[0;32mimport\u001b[0m \u001b[0mtestGetPrice\u001b[0m\u001b[0;34m\u001b[0m\u001b[0m\n\u001b[1;32m      5\u001b[0m \u001b[0;32mfrom\u001b[0m \u001b[0munittests\u001b[0m\u001b[0;34m.\u001b[0m\u001b[0mtesttax\u001b[0m \u001b[0;32mimport\u001b[0m \u001b[0mtestRatesFrame\u001b[0m\u001b[0;34m\u001b[0m\u001b[0m\n",
      "\u001b[0;31mImportError\u001b[0m: No module named 'unittests'"
     ]
    }
   ],
   "source": [
    "from cadtax.calculator import taxcalculator as objpr\n",
    "from cadtax.ratesframe import giverates as txr\n",
    "from testsuite import testsuite\n",
    "#help(cadtax.objectprice.objectprice)\n",
    "\n",
    "#test calculating tax\n",
    "a = objpr.objectprice('Shoes', 100, 'bc')\n",
    "print(a.name,a.price,a.prov)\n",
    "a.getprice()\n",
    "\n",
    "#test providing taxrate info\n",
    "df=txr.taxrates.displayrates()\n",
    "df\n",
    "\n",
    "testsuite.my_suite()"
   ]
  },
  {
   "cell_type": "code",
   "execution_count": 4,
   "metadata": {
    "collapsed": false
   },
   "outputs": [],
   "source": [
    "from cadtax.calculator import taxcalculator as objpr\n",
    "from cadtax.ratesframe import giverates as txr"
   ]
  },
  {
   "cell_type": "code",
   "execution_count": 14,
   "metadata": {
    "collapsed": false
   },
   "outputs": [],
   "source": []
  },
  {
   "cell_type": "code",
   "execution_count": null,
   "metadata": {
    "collapsed": true
   },
   "outputs": [],
   "source": []
  }
 ],
 "metadata": {
  "anaconda-cloud": {},
  "kernelspec": {
   "display_name": "Python [conda root]",
   "language": "python",
   "name": "conda-root-py"
  }
 },
 "nbformat": 4,
 "nbformat_minor": 1
}
